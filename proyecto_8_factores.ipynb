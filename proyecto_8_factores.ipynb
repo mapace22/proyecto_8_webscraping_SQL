{
 "cells": [
  {
   "cell_type": "markdown",
   "metadata": {},
   "source": [
    "\n",
    "¡Hola, Marcel!\n",
    "\n",
    "Mi nombre es Tonatiuh Cruz. Me complace revisar tu proyecto hoy.\n",
    "\n",
    "Al identificar cualquier error inicialmente, simplemente los destacaré. Te animo a localizar y abordar los problemas de forma independiente como parte de tu preparación para un rol como data-analyst. En un entorno profesional, tu líder de equipo seguiría un enfoque similar. Si encuentras la tarea desafiante, proporcionaré una pista más específica en la próxima iteración.\n",
    "\n",
    "Encontrarás mis comentarios a continuación - **por favor no los muevas, modifiques o elimines**.\n",
    "\n",
    "Puedes encontrar mis comentarios en cajas verdes, amarillas o rojas como esta:\n",
    "\n",
    "<div class=\"alert alert-block alert-success\">\n",
    "<b>Comentario del revisor</b> <a class=\"tocSkip\"></a>\n",
    "\n",
    "Éxito. Todo está hecho correctamente.\n",
    "</div>\n",
    "\n",
    "<div class=\"alert alert-block alert-warning\">\n",
    "<b>Comentario del revisor</b> <a class=\"tocSkip\"></a>\n",
    "\n",
    "Observaciones. Algunas recomendaciones.\n",
    "</div>\n",
    "\n",
    "<div class=\"alert alert-block alert-danger\">\n",
    "<b>Comentario del revisor</b> <a class=\"tocSkip\"></a>\n",
    "\n",
    "Necesita corrección. El bloque requiere algunas correcciones. El trabajo no puede ser aceptado con comentarios en rojo.\n",
    "</div>\n",
    "\n",
    "Puedes responderme utilizando esto:\n",
    "\n",
    "<div class=\"alert alert-block alert-info\">\n",
    "<b>Respuesta del estudiante.</b> <a class=\"tocSkip\"></a>"
   ]
  },
  {
   "cell_type": "markdown",
   "metadata": {},
   "source": [
    "# Paso 4. Análisis exploratorio de datos (Python)"
   ]
  },
  {
   "cell_type": "markdown",
   "metadata": {},
   "source": [
    "# 1. Importación de datos y librerías"
   ]
  },
  {
   "cell_type": "markdown",
   "metadata": {},
   "source": [
    "## 1.1 Importar librerías"
   ]
  },
  {
   "cell_type": "code",
   "execution_count": 1,
   "metadata": {},
   "outputs": [],
   "source": [
    "import pandas as pd\n",
    "import numpy as np\n",
    "import matplotlib.pyplot as plt\n",
    "import seaborn as sns\n",
    "import plotly.express as px\n",
    "from datetime import datetime, timedelta\n",
    "import scipy.stats as st"
   ]
  },
  {
   "cell_type": "markdown",
   "metadata": {},
   "source": [
    "## 1.2 Análisis CSV 01 y CSV 04\n",
    "CSV 01\n",
    "- company_name: nombre de la empresa de taxis\n",
    "- trips_amount: el número de viajes de cada compañía de taxis el 15 y 16 de noviembre de 2017.\n",
    "\n",
    "CSV 04\n",
    "- dropoff_location_name: barrios de Chicago donde finalizaron los viajes\n",
    "- average_trips: el promedio de viajes que terminaron en cada barrio en noviembre de 2017."
   ]
  },
  {
   "cell_type": "markdown",
   "metadata": {},
   "source": [
    "### 1- Importando datos CSV 01 y CSV 04"
   ]
  },
  {
   "cell_type": "code",
   "execution_count": 2,
   "metadata": {},
   "outputs": [
    {
     "name": "stdout",
     "output_type": "stream",
     "text": [
      "project_sql_result_01.csv cargado exitosamente.\n",
      "project_sql_result_04.csv cargado exitosamente.\n",
      "project_sql_result_07.csv cargado exitosamente.\n"
     ]
    }
   ],
   "source": [
    "# CSV 01\n",
    "df_trips_companies = pd.read_csv('/datasets/project_sql_result_01.csv')\n",
    "print(\"project_sql_result_01.csv cargado exitosamente.\")\n",
    "\n",
    "# CSV 04\n",
    "df_dropoff_locations = pd.read_csv('/datasets/project_sql_result_04.csv')\n",
    "print(\"project_sql_result_04.csv cargado exitosamente.\")\n",
    "\n",
    "# CSV 07\n",
    "df_loop_ohare_trips = pd.read_csv('/datasets/project_sql_result_07.csv')\n",
    "print(\"project_sql_result_07.csv cargado exitosamente.\")"
   ]
  },
  {
   "cell_type": "markdown",
   "metadata": {},
   "source": [
    "<div class=\"alert alert-block alert-warning\">\n",
    "\n",
    "<b>Comentario del revisor</b> <a class=\"tocSkip\"></a>\n",
    "\n",
    "Recuerda que como buena prática es recomendable cargar todas las bases de datos en una misma celda. Es por ello que te recomiendo cargar la base faltante en esta misma celda..</div>\n"
   ]
  },
  {
   "cell_type": "markdown",
   "metadata": {},
   "source": [
    "### 2- Estudio de datos"
   ]
  },
  {
   "cell_type": "markdown",
   "metadata": {},
   "source": [
    "#### CSV 01"
   ]
  },
  {
   "cell_type": "code",
   "execution_count": 3,
   "metadata": {},
   "outputs": [
    {
     "name": "stdout",
     "output_type": "stream",
     "text": [
      "                      company_name  trips_amount\n",
      "0                        Flash Cab         19558\n",
      "1        Taxi Affiliation Services         11422\n",
      "2                Medallion Leasing         10367\n",
      "3                       Yellow Cab          9888\n",
      "4  Taxi Affiliation Service Yellow          9299\n"
     ]
    }
   ],
   "source": [
    "print(df_trips_companies.head())"
   ]
  },
  {
   "cell_type": "code",
   "execution_count": 4,
   "metadata": {},
   "outputs": [
    {
     "name": "stdout",
     "output_type": "stream",
     "text": [
      "<class 'pandas.core.frame.DataFrame'>\n",
      "RangeIndex: 64 entries, 0 to 63\n",
      "Data columns (total 2 columns):\n",
      " #   Column        Non-Null Count  Dtype \n",
      "---  ------        --------------  ----- \n",
      " 0   company_name  64 non-null     object\n",
      " 1   trips_amount  64 non-null     int64 \n",
      "dtypes: int64(1), object(1)\n",
      "memory usage: 1.1+ KB\n"
     ]
    }
   ],
   "source": [
    "# Nan\n",
    "df_trips_companies.info()"
   ]
  },
  {
   "cell_type": "code",
   "execution_count": 5,
   "metadata": {},
   "outputs": [
    {
     "data": {
      "text/plain": [
       "(64, 2)"
      ]
     },
     "execution_count": 5,
     "metadata": {},
     "output_type": "execute_result"
    }
   ],
   "source": [
    "df_trips_companies.shape"
   ]
  },
  {
   "cell_type": "code",
   "execution_count": 6,
   "metadata": {},
   "outputs": [
    {
     "data": {
      "text/html": [
       "<div>\n",
       "<style scoped>\n",
       "    .dataframe tbody tr th:only-of-type {\n",
       "        vertical-align: middle;\n",
       "    }\n",
       "\n",
       "    .dataframe tbody tr th {\n",
       "        vertical-align: top;\n",
       "    }\n",
       "\n",
       "    .dataframe thead th {\n",
       "        text-align: right;\n",
       "    }\n",
       "</style>\n",
       "<table border=\"1\" class=\"dataframe\">\n",
       "  <thead>\n",
       "    <tr style=\"text-align: right;\">\n",
       "      <th></th>\n",
       "      <th>trips_amount</th>\n",
       "    </tr>\n",
       "  </thead>\n",
       "  <tbody>\n",
       "    <tr>\n",
       "      <th>count</th>\n",
       "      <td>64.0</td>\n",
       "    </tr>\n",
       "    <tr>\n",
       "      <th>mean</th>\n",
       "      <td>2145.0</td>\n",
       "    </tr>\n",
       "    <tr>\n",
       "      <th>std</th>\n",
       "      <td>3812.0</td>\n",
       "    </tr>\n",
       "    <tr>\n",
       "      <th>min</th>\n",
       "      <td>2.0</td>\n",
       "    </tr>\n",
       "    <tr>\n",
       "      <th>25%</th>\n",
       "      <td>21.0</td>\n",
       "    </tr>\n",
       "    <tr>\n",
       "      <th>50%</th>\n",
       "      <td>178.0</td>\n",
       "    </tr>\n",
       "    <tr>\n",
       "      <th>75%</th>\n",
       "      <td>2106.0</td>\n",
       "    </tr>\n",
       "    <tr>\n",
       "      <th>max</th>\n",
       "      <td>19558.0</td>\n",
       "    </tr>\n",
       "  </tbody>\n",
       "</table>\n",
       "</div>"
      ],
      "text/plain": [
       "       trips_amount\n",
       "count          64.0\n",
       "mean         2145.0\n",
       "std          3812.0\n",
       "min             2.0\n",
       "25%            21.0\n",
       "50%           178.0\n",
       "75%          2106.0\n",
       "max         19558.0"
      ]
     },
     "execution_count": 6,
     "metadata": {},
     "output_type": "execute_result"
    }
   ],
   "source": [
    "# Redondeo a cero decimales\n",
    "df_trips_companies.describe().round(0)"
   ]
  },
  {
   "cell_type": "markdown",
   "metadata": {},
   "source": [
    "En df_trips_companies la mediana (50%) es 178.0 y media es 2145.0; son muy distintas\n",
    "- La media más alta que la mediana (2145 vs 178) indica una distribución de datos sesgada a la derecha o con un sesgo positivo.\n",
    "- Típico de valores atípicos (outliers) o pequeño número de valores extremadamente grandes.\n",
    "- La mediana sugiere que el 50% de compañías de taxis tuvieron 178 viajes o menos (y el otro 50% tuvo 178 viajes o más). Número relativamente bajo de viajes.\n",
    "- La media indica que algunas compañías (o una compañía) tuvo una cantidad excepcionalmente alta de viajes.\n",
    "- El max de 19558 confirma la existencia de al menos una compañía con un número muy alto de viajes.\n",
    "\n",
    "\n",
    "\n",
    "Conclusión hipotética: La mayoría de empresas de taxis realizan un número moderado de viajes y otras pocas dominan el mercado con un volumen de viajes muy alto. (hacer histograma o boxplot)"
   ]
  },
  {
   "cell_type": "markdown",
   "metadata": {},
   "source": [
    "#### CSV 04"
   ]
  },
  {
   "cell_type": "code",
   "execution_count": 7,
   "metadata": {},
   "outputs": [
    {
     "name": "stdout",
     "output_type": "stream",
     "text": [
      "  dropoff_location_name  average_trips\n",
      "0                  Loop   10727.466667\n",
      "1           River North    9523.666667\n",
      "2         Streeterville    6664.666667\n",
      "3             West Loop    5163.666667\n",
      "4                O'Hare    2546.900000\n"
     ]
    }
   ],
   "source": [
    "print(df_dropoff_locations.head())"
   ]
  },
  {
   "cell_type": "code",
   "execution_count": 8,
   "metadata": {},
   "outputs": [
    {
     "name": "stdout",
     "output_type": "stream",
     "text": [
      "<class 'pandas.core.frame.DataFrame'>\n",
      "RangeIndex: 94 entries, 0 to 93\n",
      "Data columns (total 2 columns):\n",
      " #   Column                 Non-Null Count  Dtype  \n",
      "---  ------                 --------------  -----  \n",
      " 0   dropoff_location_name  94 non-null     object \n",
      " 1   average_trips          94 non-null     float64\n",
      "dtypes: float64(1), object(1)\n",
      "memory usage: 1.6+ KB\n"
     ]
    }
   ],
   "source": [
    "# Nan\n",
    "df_dropoff_locations.info()"
   ]
  },
  {
   "cell_type": "code",
   "execution_count": 9,
   "metadata": {},
   "outputs": [
    {
     "data": {
      "text/plain": [
       "(94, 2)"
      ]
     },
     "execution_count": 9,
     "metadata": {},
     "output_type": "execute_result"
    }
   ],
   "source": [
    "df_dropoff_locations.shape"
   ]
  },
  {
   "cell_type": "code",
   "execution_count": 10,
   "metadata": {},
   "outputs": [
    {
     "data": {
      "text/html": [
       "<div>\n",
       "<style scoped>\n",
       "    .dataframe tbody tr th:only-of-type {\n",
       "        vertical-align: middle;\n",
       "    }\n",
       "\n",
       "    .dataframe tbody tr th {\n",
       "        vertical-align: top;\n",
       "    }\n",
       "\n",
       "    .dataframe thead th {\n",
       "        text-align: right;\n",
       "    }\n",
       "</style>\n",
       "<table border=\"1\" class=\"dataframe\">\n",
       "  <thead>\n",
       "    <tr style=\"text-align: right;\">\n",
       "      <th></th>\n",
       "      <th>average_trips</th>\n",
       "    </tr>\n",
       "  </thead>\n",
       "  <tbody>\n",
       "    <tr>\n",
       "      <th>count</th>\n",
       "      <td>94.0</td>\n",
       "    </tr>\n",
       "    <tr>\n",
       "      <th>mean</th>\n",
       "      <td>600.0</td>\n",
       "    </tr>\n",
       "    <tr>\n",
       "      <th>std</th>\n",
       "      <td>1715.0</td>\n",
       "    </tr>\n",
       "    <tr>\n",
       "      <th>min</th>\n",
       "      <td>2.0</td>\n",
       "    </tr>\n",
       "    <tr>\n",
       "      <th>25%</th>\n",
       "      <td>14.0</td>\n",
       "    </tr>\n",
       "    <tr>\n",
       "      <th>50%</th>\n",
       "      <td>52.0</td>\n",
       "    </tr>\n",
       "    <tr>\n",
       "      <th>75%</th>\n",
       "      <td>299.0</td>\n",
       "    </tr>\n",
       "    <tr>\n",
       "      <th>max</th>\n",
       "      <td>10727.0</td>\n",
       "    </tr>\n",
       "  </tbody>\n",
       "</table>\n",
       "</div>"
      ],
      "text/plain": [
       "       average_trips\n",
       "count           94.0\n",
       "mean           600.0\n",
       "std           1715.0\n",
       "min              2.0\n",
       "25%             14.0\n",
       "50%             52.0\n",
       "75%            299.0\n",
       "max          10727.0"
      ]
     },
     "execution_count": 10,
     "metadata": {},
     "output_type": "execute_result"
    }
   ],
   "source": [
    "# Redondeo a cero decimales\n",
    "df_dropoff_locations.describe().round(0)"
   ]
  },
  {
   "cell_type": "markdown",
   "metadata": {},
   "source": [
    "En df_dropoff_locations la mediana (50%) es 52.0, mientras que la media es 600.0.\n",
    "- La mediana de 52.0 significa que el 50% de los barrios tuvieron un promedio de 52.0 viajes finalizados o menos (y el otro 50% tuvo 52.0 viajes o más). Esto sugiere que la mayoría de los barrios tienen un promedio relativamente bajo de viajes finalizados.\n",
    "- La media de 600.0 es considerablemente más alta, lo que indica que hay algunos barrios (o un pequeño grupo de barrios) que recibieron un volumen de viajes finalizados excepcionalmente alto, elevando significativamente el promedio general.\n",
    "- El max de 10727.0 confirma la existencia de al menos un barrio con un promedio de viajes finalizados extremadamente alto, lo que respalda esta hipótesis de sesgo.\n",
    "\n",
    "Conclusión: Existe una gran disparidad en el promedio de viajes que finalizan en los diferentes barrios. La mayoría de los barrios reciben un número moderado o bajo de finalizaciones de viaje, pero unos pocos barrios actúan como \"imanes de viajes\", concentrando una parte muy significativa de las finalizaciones de recorrido."
   ]
  },
  {
   "cell_type": "markdown",
   "metadata": {},
   "source": [
    "### 3- Tipo de datos"
   ]
  },
  {
   "cell_type": "markdown",
   "metadata": {},
   "source": [
    "#### CSV 01"
   ]
  },
  {
   "cell_type": "code",
   "execution_count": 11,
   "metadata": {
    "scrolled": true
   },
   "outputs": [
    {
     "data": {
      "text/plain": [
       "dropoff_location_name     object\n",
       "average_trips            float64\n",
       "dtype: object"
      ]
     },
     "execution_count": 11,
     "metadata": {},
     "output_type": "execute_result"
    }
   ],
   "source": [
    "df_dropoff_locations.dtypes"
   ]
  },
  {
   "cell_type": "markdown",
   "metadata": {},
   "source": [
    "#### CSV 04"
   ]
  },
  {
   "cell_type": "code",
   "execution_count": 12,
   "metadata": {},
   "outputs": [
    {
     "data": {
      "text/plain": [
       "dropoff_location_name     object\n",
       "average_trips            float64\n",
       "dtype: object"
      ]
     },
     "execution_count": 12,
     "metadata": {},
     "output_type": "execute_result"
    }
   ],
   "source": [
    "df_dropoff_locations.dtypes"
   ]
  },
  {
   "cell_type": "markdown",
   "metadata": {},
   "source": [
    "### 4- Diez principales barrios\n",
    "- Identificar los 10 principales barrios en términos de finalización del recorrido"
   ]
  },
  {
   "cell_type": "code",
   "execution_count": 13,
   "metadata": {},
   "outputs": [
    {
     "name": "stdout",
     "output_type": "stream",
     "text": [
      "  dropoff_location_name  average_trips\n",
      "0                  Loop        10727.0\n",
      "1           River North         9524.0\n",
      "2         Streeterville         6665.0\n",
      "3             West Loop         5164.0\n",
      "4                O'Hare         2547.0\n",
      "5             Lake View         2421.0\n",
      "6            Grant Park         2069.0\n",
      "7         Museum Campus         1510.0\n",
      "8            Gold Coast         1364.0\n",
      "9    Sheffield & DePaul         1260.0\n"
     ]
    }
   ],
   "source": [
    "import pandas as pd\n",
    "import matplotlib.pyplot as plt\n",
    "import seaborn as sns\n",
    "\n",
    "# Orden de df_dropoff_locations por 'average_trips' y descendente (10 primeras filas).\n",
    "top_10_dropoff_locations = df_dropoff_locations.sort_values(by='average_trips', ascending=False).head(10)\n",
    "\n",
    "print(top_10_dropoff_locations.round(0))"
   ]
  },
  {
   "cell_type": "markdown",
   "metadata": {},
   "source": [
    "Estos barrios tienen el mayor promedio de finalizaciones de viaje en noviembre de 2017. Seguro son centros de actividad importante o puntos de destino frecuente en la ciudad (zona comercial o de negocios, aeropuertos, áreas residenciales densas y bien comunicadas."
   ]
  },
  {
   "cell_type": "markdown",
   "metadata": {},
   "source": [
    "### 5- Visualizaciones y conclusiones\n",
    "- Gráficos sobre: empresas de taxis y número de viajes, los 10 barrios principales por número de finalizaciones"
   ]
  },
  {
   "cell_type": "code",
   "execution_count": 14,
   "metadata": {},
   "outputs": [
    {
     "data": {
      "image/png": "[encoded data removed]",
      "text/plain": [
       "<Figure size 1000x400 with 1 Axes>"
      ]
     },
     "metadata": {},
     "output_type": "display_data"
    }
   ],
   "source": [
    "# Gráfico 1: Empresas de taxis y número de viajes\n",
    "\n",
    "# trips_amount descendente con top N compañías\n",
    "df_trips_companies_sorted = df_trips_companies.sort_values(by='trips_amount', ascending=False).head(10)\n",
    "\n",
    "plt.figure(figsize=(10, 4))\n",
    "sns.barplot(x='trips_amount', y='company_name', data=df_trips_companies_sorted, palette='viridis')\n",
    "plt.title('Top 10: Número de Viajes por Compañía de Taxis (15 y 16 de Noviembre de 2017)', fontsize=14)\n",
    "plt.xlabel('Número de Viajes', fontsize=12)\n",
    "plt.ylabel('Nombre de la Compañía', fontsize=12)\n",
    "plt.yticks(fontsize=8)\n",
    "plt.grid(axis='x', linestyle='--', alpha=0.7)\n",
    "plt.tight_layout()\n",
    "plt.show()"
   ]
  },
  {
   "cell_type": "markdown",
   "metadata": {},
   "source": [
    "<div class=\"alert alert-block alert-danger\">\n",
    "\n",
    "<b>Comentario del revisor</b> <a class=\"tocSkip\"></a>\n",
    "\n",
    "Muy buen trabajo con el desarrollo de la gráfica para visualizar los resultados. Solamente dado que al cliente le interesa el top 10 de las principales empresas con número de viajes, te recomiendo complementar este análisis con una gráfica solamente mostrando el top 10.</div>"
   ]
  },
  {
   "cell_type": "markdown",
   "metadata": {},
   "source": [
    "### Conclusiones:\n",
    "- En la distribución de viajes entre compañías de taxis se observa una concentración en pocas empresas, mientras que muchas otras poseen una bajo volumen de viajes menor. \n",
    "- El mercado es dominado por pocos, validando la gran diferencia entre media y mediana de 'trips_amount'\n",
    "- Esta clara asimetría o sesgo en la distribución de viajes entre compañías advierte que mientras pocas empresas concentran el mayor volumen de viajes como \"Flash Cab\" y \"Taxi Affiliation Services\" otras se caracterizan por una menor afluencia de viajes.\n",
    "\n",
    "Esto implica: \n",
    "- Dominio del Mercado: El mercado de taxis en Chicago entre el 15 y 16 de noviembre de 2017 es dominado por un grupo exclusivo de operadoras.\n",
    "- Competencia: Las compañías pequeñas compiten dentro de una porción menor del mercado (estrategias de negocio y posicionamiento poco robustas).\n",
    "- Validación estadística: se confirma la distinción entre la media (2145.0) y la mediana (178.0), por valores atípicos (grandes compañías) que inflan el promedio hacia arriba."
   ]
  },
  {
   "cell_type": "code",
   "execution_count": 15,
   "metadata": {},
   "outputs": [
    {
     "data": {
      "image/png": "[encoded data removed]",
      "text/plain": [
       "<Figure size 1200x700 with 1 Axes>"
      ]
     },
     "metadata": {},
     "output_type": "display_data"
    }
   ],
   "source": [
    "# Gráfico 2: Los 10 barrios principales por número de finalizaciones\n",
    "\n",
    "plt.figure(figsize=(12, 7))\n",
    "sns.barplot(x='average_trips', y='dropoff_location_name', data=top_10_dropoff_locations, palette='magma')\n",
    "plt.title('Top 10 Barrios por Promedio de Viajes Finalizados (Noviembre de 2017)')\n",
    "plt.xlabel('Promedio de Viajes Finalizados')\n",
    "plt.ylabel('Nombre del Barrio')\n",
    "plt.grid(axis='x', linestyle='--', alpha=0.7)\n",
    "plt.tight_layout()\n",
    "plt.show()"
   ]
  },
  {
   "cell_type": "markdown",
   "metadata": {},
   "source": [
    "<div class=\"alert alert-block alert-success\">\n",
    "\n",
    "<b>Comentario del revisor</b> <a class=\"tocSkip\"></a>\n",
    "\n",
    "Excelente trabajo con el desarrollo de este análisis y lo complementaste con una gráfica.\n",
    "    </div>"
   ]
  },
  {
   "cell_type": "markdown",
   "metadata": {},
   "source": [
    "### Conclusiones:\n",
    "- Los principales barrios por promedio de viajes finalizados denotan ser destinos mucho más populares en demanda dentro de la ciudad durante el mes de noviembre, 2017.\n",
    "- Los barrios \"top\" sugieren ser posiblemente centros neurales de comercio, distritos financieros, zonas turísticas, rutas de transporte concurridas (aeropuertos) o simplemente zonas residencialesaltamente pobladas.\n",
    "\n",
    "Esto implica:\n",
    "\n",
    "- Zona de interés: Existen barrios Top de mayor interés y actividad económica o social. Sugiere concentrar allí los servicios de transporte.\n",
    "- Plan urbana y transporte: Descubre la movilidad de la ciudad para ubicar nuevas infraestructuras de transporte, servicios públicos y negocios.\n",
    "- Validación estadísticas: Confirma la disparidad entre la media de (600.0) y la mediana de (52.0) de average_trips, son pocos los barrios con gran cantidad de viajes."
   ]
  },
  {
   "cell_type": "markdown",
   "metadata": {},
   "source": [
    "### Conclusión General: Se revelan patrones en Chicago en donde existe una concentración de la actividad de taxis alta por parte de pocas empresas operadoras o aactores. así como lugares de mayor afluencia muy marcados o coincentrados en pocas zonas, datos clave para entender la dinámica de la ciudad."
   ]
  },
  {
   "cell_type": "markdown",
   "metadata": {},
   "source": [
    "# Paso 5. Prueba de hipótesis (Python)"
   ]
  },
  {
   "cell_type": "markdown",
   "metadata": {},
   "source": [
    "### Importar datos y librerías para CSV 07 - última consulta. \n",
    "- Contiene datos sobre viajes desde el Loop hasta el Aeropuerto Internacional O'Hare.\n",
    "- Valores:\n",
    "  - start_ts: fecha y hora de la recogida\n",
    "  - weather_conditions: condiciones climáticas en el momento en el que comenzó el viaje\n",
    "  - duration_seconds: duración del viaje en segundos"
   ]
  },
  {
   "cell_type": "code",
   "execution_count": 16,
   "metadata": {},
   "outputs": [],
   "source": [
    "import pandas as pd\n",
    "import numpy as np\n",
    "import scipy.stats as st\n",
    "from datetime import datetime"
   ]
  },
  {
   "cell_type": "code",
   "execution_count": 17,
   "metadata": {},
   "outputs": [],
   "source": [
    "df_loop_ohare_trips = pd.read_csv('/datasets/project_sql_result_07.csv')"
   ]
  },
  {
   "cell_type": "code",
   "execution_count": 18,
   "metadata": {},
   "outputs": [
    {
     "name": "stdout",
     "output_type": "stream",
     "text": [
      "              start_ts weather_conditions  duration_seconds\n",
      "0  2017-11-25 16:00:00               Good            2410.0\n",
      "1  2017-11-25 14:00:00               Good            1920.0\n",
      "2  2017-11-25 12:00:00               Good            1543.0\n",
      "3  2017-11-04 10:00:00               Good            2512.0\n",
      "4  2017-11-11 07:00:00               Good            1440.0\n"
     ]
    }
   ],
   "source": [
    "print(df_loop_ohare_trips.head())"
   ]
  },
  {
   "cell_type": "code",
   "execution_count": 19,
   "metadata": {},
   "outputs": [
    {
     "name": "stdout",
     "output_type": "stream",
     "text": [
      "<class 'pandas.core.frame.DataFrame'>\n",
      "RangeIndex: 1068 entries, 0 to 1067\n",
      "Data columns (total 3 columns):\n",
      " #   Column              Non-Null Count  Dtype  \n",
      "---  ------              --------------  -----  \n",
      " 0   start_ts            1068 non-null   object \n",
      " 1   weather_conditions  1068 non-null   object \n",
      " 2   duration_seconds    1068 non-null   float64\n",
      "dtypes: float64(1), object(2)\n",
      "memory usage: 25.2+ KB\n"
     ]
    }
   ],
   "source": [
    " df_loop_ohare_trips.info()"
   ]
  },
  {
   "cell_type": "code",
   "execution_count": 20,
   "metadata": {},
   "outputs": [],
   "source": [
    "# Validar 'start_ts'  como datetime\n",
    "df_loop_ohare_trips['start_ts'] = pd.to_datetime(df_loop_ohare_trips['start_ts'])"
   ]
  },
  {
   "cell_type": "code",
   "execution_count": 21,
   "metadata": {},
   "outputs": [
    {
     "name": "stdout",
     "output_type": "stream",
     "text": [
      "\n",
      "Conteo de condiciones climáticas:\n",
      "Good    888\n",
      "Bad     180\n",
      "Name: weather_conditions, dtype: int64\n"
     ]
    }
   ],
   "source": [
    "# Verificar viajes de sábado y valores de la columna weather_conditions\n",
    "print(\"\\nConteo de condiciones climáticas:\")\n",
    "print(df_loop_ohare_trips['weather_conditions'].value_counts())"
   ]
  },
  {
   "cell_type": "markdown",
   "metadata": {},
   "source": [
    "### Hipótesis: \"La duración promedio de los viajes desde el Loop hasta el Aeropuerto Internacional O'Hare cambia los sábados lluviosos\".     "
   ]
  },
  {
   "cell_type": "markdown",
   "metadata": {},
   "source": [
    "### Planteamiento de las hipótesis nula y alternativa: Hipótesis de \"cambio\" o \"diferencia\", no de \"mayor que\" o \"menor que\", por lo cual es una prueba de 2 colas.\n",
    "\n",
    "#### - Hipótesis Nula (H_0): No hay diferencia significativa en la duración promedio de los viajes desde el Loop hasta O'Hare entre los sábados lluviosos y los sábados con buen clima.\n",
    "\n",
    "#### - Hipótesis Alternativa (H_1): Hay una diferencia significativa en la duración promedio de los viajes desde el Loop hasta O'Hare entre los sábados lluviosos y los sábados con buen clima.\n"
   ]
  },
  {
   "cell_type": "markdown",
   "metadata": {},
   "source": [
    "### Nivel de significación (alfa)\n",
    "Alpha será el umbral para decidir si rechazamos la hipótesis nula."
   ]
  },
  {
   "cell_type": "markdown",
   "metadata": {},
   "source": [
    "#### Criterios\n",
    "- Alpha = 0.05 (o 5%): Dispuestos a aceptar una probabilidad del 5% de rechazar la hipótesis nula cuando en realidad es cierta.\n",
    "- Prueba t de Student para la media de dos muestras independientes (Student's t-test for two independent samples).\n",
    "    - Comparar medias de 2 grupos: duración promedio en sábados lluviosos vs. duración promedio en sábados con buen clima.\n",
    "    - Muestras independientes (sábados lluviosos y sábados con buen clima)\n",
    "    - Normalidad o tamaño de muestra grande: Se asume que las muestras vienen de poblaciones normalmente distribuidas, pero si el tamaño es lo bastante grande (N > 30), el Teorema del Límite Central permitiría aplicar la prueba t incluso si las distribuciones no son perfectamente normales.\n",
    "    - Varianzas iguales o desiguales: Prueba t de Student maneja varianzas de 2 poblaciones iguales o desiguales. La función scipy.stats.ttest_ind propicia especificar si asumimos varianzas iguales (equal_var=True) o no (equal_var=False). Es mejor utilizar equal_var=False si no estamos seguros o el tamaño de las muestras difieren mucho, o  por otro lado, podemos hacer una prueba de Levene o Barlett para la homogeneidad de varianzas. En este caso asumiremos varianzas desiguales (equal_var=False) como enfoque más robusto.\n",
    "\n",
    "- Valor p (p-value) de la prueba t.\n",
    "    - Regla de decisión: Si p-value < alpha (0.05): Se rechaza la hipótesis nula (evidencia estadística de que la duración promedio de los viajes sí cambia entre sábados, lluviosos o con buen clima.\n",
    "    - Si p-value ≥ alpha (0.05): No rechazamos la hipótesis nula. No hay evidencia para decir que la duración promedio de los viajes cambia y cualquier distinción obedecería al azar."
   ]
  },
  {
   "cell_type": "code",
   "execution_count": 22,
   "metadata": {},
   "outputs": [
    {
     "name": "stdout",
     "output_type": "stream",
     "text": [
      "             start_ts weather_conditions  duration_seconds  day_of_week\n",
      "0 2017-11-25 16:00:00               Good            2410.0            5\n",
      "1 2017-11-25 14:00:00               Good            1920.0            5\n",
      "2 2017-11-25 12:00:00               Good            1543.0            5\n",
      "3 2017-11-04 10:00:00               Good            2512.0            5\n",
      "4 2017-11-11 07:00:00               Good            1440.0            5\n",
      "<class 'pandas.core.frame.DataFrame'>\n",
      "RangeIndex: 1068 entries, 0 to 1067\n",
      "Data columns (total 4 columns):\n",
      " #   Column              Non-Null Count  Dtype         \n",
      "---  ------              --------------  -----         \n",
      " 0   start_ts            1068 non-null   datetime64[ns]\n",
      " 1   weather_conditions  1068 non-null   object        \n",
      " 2   duration_seconds    1068 non-null   float64       \n",
      " 3   day_of_week         1068 non-null   int64         \n",
      "dtypes: datetime64[ns](1), float64(1), int64(1), object(1)\n",
      "memory usage: 33.5+ KB\n",
      "Good    888\n",
      "Bad     180\n",
      "Name: weather_conditions, dtype: int64\n",
      "5    1068\n",
      "Name: day_of_week, dtype: int64\n"
     ]
    }
   ],
   "source": [
    "# start_ts sea tipo datetime\n",
    "df_loop_ohare_trips['start_ts'] = pd.to_datetime(df_loop_ohare_trips['start_ts'])\n",
    "\n",
    "# Columna 'day_of_week' (Sábado=5)\n",
    "df_loop_ohare_trips['day_of_week'] = df_loop_ohare_trips['start_ts'].dt.dayofweek\n",
    "print(df_loop_ohare_trips.head())\n",
    "df_loop_ohare_trips.info()\n",
    "print(df_loop_ohare_trips['weather_conditions'].value_counts())\n",
    "print(df_loop_ohare_trips['day_of_week'].value_counts())"
   ]
  },
  {
   "cell_type": "code",
   "execution_count": 29,
   "metadata": {},
   "outputs": [
    {
     "name": "stdout",
     "output_type": "stream",
     "text": [
      "Número de viajes en sábados lluviosos ('Bad'): 180\n",
      "Número de viajes en sábados con buen clima ('Good'): 888\n",
      "\n",
      "Nivel de significación (alpha) establecido en: 0.05\n",
      "Valor p de Levene: 0.5332\n",
      "Conclusión de Levene: No hay evidencia suficiente para afirmar que las varianzas son diferentes. Se asumirán varianzas iguales.\n",
      "\n",
      "Estadística T: 6.95\n",
      "Valor p: 0.0000\n",
      "\n",
      "Decisión de la Hipótesis\n",
      "El valor p (0.0000) es MENOR que alpha (0.05).\n",
      "Rechazamos la hipótesis nula (H0).\n",
      "Conclusión: Hay evidencia estadística significativa para afirmar que la duración promedio de los viajes desde el Loop hasta O'Hare CAMBIA los sábados lluviosos en comparación con los sábados de buen clima.\n"
     ]
    }
   ],
   "source": [
    "import pandas as pd\n",
    "import numpy as np\n",
    "import scipy.stats as st\n",
    "\n",
    "# Filtro de datos en donde el Sábado=5\n",
    "saturday_trips = df_loop_ohare_trips[df_loop_ohare_trips['day_of_week'] == 5]\n",
    "\n",
    "# Dividir viajes en 2 grupos según clima\n",
    "saturday_bad_weather_data = saturday_trips[saturday_trips['weather_conditions'] == 'Bad']['duration_seconds']\n",
    "saturday_good_weather_data = saturday_trips[saturday_trips['weather_conditions'] == 'Good']['duration_seconds']\n",
    "\n",
    "# Nivel de significación (alfa)\n",
    "alpha = 0.05\n",
    "\n",
    "# Prueba Levene - 'equal_var'\n",
    "levene_statistic, levene_p_value = st.levene(saturday_bad_weather_data, saturday_good_weather_data)\n",
    "\n",
    "# True si no se rechazamos H0 (varianzas iguales) y False si se rechaza H0 (varianzas desiguales)\n",
    "equal_variances = levene_p_value >= alpha\n",
    "\n",
    "# Tamaño de muestras\n",
    "print(f\"Número de viajes en sábados lluviosos ('Bad'): {len(saturday_bad_weather_data)}\")\n",
    "print(f\"Número de viajes en sábados con buen clima ('Good'): {len(saturday_good_weather_data)}\")\n",
    "print(f\"\\nNivel de significación (alpha) establecido en: {alpha}\")\n",
    "print(f\"Valor p de Levene: {levene_p_value:.4f}\")\n",
    "\n",
    "if equal_variances:\n",
    "    print(\"Conclusión de Levene: No hay evidencia suficiente para afirmar que las varianzas son diferentes. Se asumirán varianzas iguales.\")\n",
    "else:\n",
    "    print(\"Conclusión de Levene: Las varianzas son significativamente diferentes. Se asumirán varianzas desiguales (prueba de Welch).\")\n",
    "\n",
    "#Prueba t de Student\n",
    "statistic, p_value = st.ttest_ind(saturday_bad_weather_data, saturday_good_weather_data, equal_var=equal_variances)\n",
    "\n",
    "print(f\"\\nEstadística T: {statistic:.2f}\")\n",
    "print(f\"Valor p: {p_value:.4f}\")\n",
    "\n",
    "# Decisión según p y alfa\n",
    "print(\"\\nDecisión de la Hipótesis\")\n",
    "if p_value < alpha:\n",
    "    print(f\"El valor p ({p_value:.4f}) es MENOR que alpha ({alpha}).\")\n",
    "    print(\"Rechazamos la hipótesis nula (H0).\")\n",
    "    print(\"Conclusión: Hay evidencia estadística significativa para afirmar que la duración promedio de los viajes desde el Loop hasta O'Hare CAMBIA los sábados lluviosos en comparación con los sábados de buen clima.\")\n",
    "else:\n",
    "    print(f\"El valor p ({p_value:.4f}) es MAYOR O IGUAL que alpha ({alpha}).\")\n",
    "    print(\"No rechazamos la hipótesis nula (H0).\")\n",
    "    print(\"Conclusión: No hay evidencia estadística suficiente para afirmar que la duración promedio de los viajes desde el Loop hasta O'Hare cambia los sábados lluviosos en comparación con los sábados de buen clima. Cualquier diferencia observada podría deberse al azar.\")"
   ]
  },
  {
   "cell_type": "markdown",
   "metadata": {},
   "source": [
    " <div class=\"alert alert-block alert-danger\">\n",
    "<b>Comentario revisor</b> <a class=\"tocSkip\"></a>\n",
    "\n",
    "Para esta prueba te recomiendo hacer una prueba de  Levene  para mostrar si las varianzas son iguales y agregarlo dentro de la función. Actualmente lo colocas como equal_var=False. Para esto, primero debes calcular las varianzas para cada uno de los días (lluvioso y no lluvioso) debes de hacer uso de la siguiente función: \n",
    "    \n",
    "    levene(saturday_bad_weather_trips['duration_seconds'],\n",
    "        saturday_good_weather_trips['duration_seconds'])\n",
    "    \n",
    "Adoptaremos un nivel de significancia de 0.05; si el valor p resultante es mayor a 0.05, no podemos rechazar la hipótesis nula, y si es menor a 0.05, rechazamos la hipótesis nula, indicando que las varianzas no son iguales. \n",
    "    \n",
    "Solamente recuerda que la prueba de levene no es sustituto a la prueba de st.ttest_ind, más bien es complemento para saber que colocar dentro del elemento \"equal_var\".  Es por eso que para terminar la prueba debes de realizar la prueba de st.ttest_ind considernado el resultado de la prueba realizada de levene.  \n",
    "</div>"
   ]
  },
  {
   "cell_type": "markdown",
   "metadata": {},
   "source": [
    "### Cálculo extra de comparación de promedios"
   ]
  },
  {
   "cell_type": "code",
   "execution_count": 28,
   "metadata": {},
   "outputs": [
    {
     "name": "stdout",
     "output_type": "stream",
     "text": [
      "Duración promedio sábados lluviosos: 2427.21 segundos (40.45 min)\n",
      "Duración promedio sábados buen clima: 1999.68 segundos (33.33 min)\n"
     ]
    }
   ],
   "source": [
    "# Duración promedio de los viajes de sábados lluviosos o con buen clima\n",
    "mean_duration_bad_weather = saturday_bad_weather_data.mean()\n",
    "mean_duration_good_weather = saturday_good_weather_data.mean()\n",
    "\n",
    "print(f\"Duración promedio sábados lluviosos: {mean_duration_bad_weather:.2f} segundos ({mean_duration_bad_weather / 60:.2f} min)\")\n",
    "print(f\"Duración promedio sábados buen clima: {mean_duration_good_weather:.2f} segundos ({mean_duration_good_weather / 60:.2f} min)\")"
   ]
  },
  {
   "cell_type": "markdown",
   "metadata": {},
   "source": [
    "## Conclusión General:\n",
    "\n",
    "La duración promedio de los viajes en taxi desde el Loop hasta el Aeropuerto Internacional O'Hare varía considerablemente los sábados cuando las condiciones climáticas son 'Bad' (lluviosas/tormentosas) en comparación con los sábados de 'Good' (buen clima). \n",
    "\n",
    "Se rechazado la hipótesis nula con evidencia estadística sobre la incidencia de las condiciones climáticas adversas de los sábados y su impacto en el tiempo de los viajes. Sugiere que algunos elementos como el tráfico, visibilidad reducida, precauciones de seguridad y otros, durante el mal tiempo alargan el trayecto en promedio.\n",
    "\n",
    "La diferencia según la hipótesis planteada no es algo al azar, los viajes en sábados lluviosos tienen una duración promedio de 2427.21 segundos (aproximadamente 40.45 minutos), mientras que los viajes en sábados con buen clima tienen una duración promedio de 1999.68 segundos (aproximadamente 33.33 minutos). son más de 7 minutos en promedio y sugiere que las condiciones meteorológicas adversas de los sábados alargan el tiempo de viaje entre el Loop y O'Hare.\n",
    "\n",
    "Implicaciones: Talvez los usuarios deben salir con más tiempo los sábados lluviosos o las empresas de taxis podrían ajustar sus estimaciones de tiempo. Por ejemplo, si se viaja al aeropuerto los sábados, deberían considerar un tiempo extra si se pronostican condiciones de lluvia o tormenta.\n",
    "\n",
    "Limitantes: El estudio se basa en los datos proporcionados y no en todos los viajes posibles, o en el caso de que sólo se consideraron dos categorías de clima."
   ]
  },
  {
   "cell_type": "code",
   "execution_count": null,
   "metadata": {},
   "outputs": [],
   "source": []
  },
  {
   "cell_type": "code",
   "execution_count": null,
   "metadata": {},
   "outputs": [],
   "source": []
  }
 ],
 "metadata": {
  "kernelspec": {
   "display_name": "Python 3 (ipykernel)",
   "language": "python",
   "name": "python3"
  },
  "language_info": {
   "codemirror_mode": {
    "name": "ipython",
    "version": 3
   },
   "file_extension": ".py",
   "mimetype": "text/x-python",
   "name": "python",
   "nbconvert_exporter": "python",
   "pygments_lexer": "ipython3",
   "version": "3.9.23"
  }
 },
 "nbformat": 4,
 "nbformat_minor": 4
}
